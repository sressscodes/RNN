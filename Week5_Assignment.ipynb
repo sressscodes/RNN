{
  "cells": [
    {
      "cell_type": "code",
      "execution_count": 31,
      "id": "a189b155",
      "metadata": {
        "id": "a189b155"
      },
      "outputs": [],
      "source": [
        "#importing required libraries\n",
        "import pandas as pd\n",
        "import numpy as np\n",
        "from tensorflow.keras.preprocessing.text import Tokenizer\n",
        "from tensorflow.keras.preprocessing.sequence import pad_sequences\n",
        "from keras.models import Sequential\n",
        "from keras.layers import Dense"
      ]
    },
    {
      "cell_type": "code",
      "execution_count": 33,
      "id": "36ae5ff8",
      "metadata": {
        "id": "36ae5ff8"
      },
      "outputs": [],
      "source": [
        "# Sentences (Text Data)\n",
        "sentences = [\n",
        "    \"The sky is clear and blue today\",\n",
        "    \"I absolutely love the new recipe I tried\",\n",
        "    \"This movie exceeded all my expectations\",\n",
        "    \"He forgot the keys again, which is frustrating\",\n",
        "    \"We achieved our sales target this quarter\",\n",
        "    \"The weather forecast predicts heavy rainfall\",\n",
        "    \"She solved the puzzle faster than anyone expected\",\n",
        "    \"The dinner party was a complete disaster\",\n",
        "    \"I found an amazing book at the library\",\n",
        "    \"Our team is preparing for the championship finals\",\n",
        "    \"The traffic today was unbelievably bad\",\n",
        "    \"She sang the song beautifully at the event\"\n",
        "]\n",
        "\n",
        "# Binary Labels (1 for Positive, 0 for Negative)\n",
        "label = [1, 1, 1, 0, 1, 0, 1, 0, 1, 1, 0, 1]"
      ]
    },
    {
      "cell_type": "code",
      "execution_count": 34,
      "id": "0b78c23c",
      "metadata": {
        "colab": {
          "base_uri": "https://localhost:8080/"
        },
        "id": "0b78c23c",
        "outputId": "b4ba1d8c-f6af-42a7-80cb-8111571dadf7"
      },
      "outputs": [
        {
          "output_type": "execute_result",
          "data": {
            "text/plain": [
              "{'oov': 1,\n",
              " 'the': 2,\n",
              " 'is': 3,\n",
              " 'i': 4,\n",
              " 'today': 5,\n",
              " 'this': 6,\n",
              " 'our': 7,\n",
              " 'she': 8,\n",
              " 'was': 9,\n",
              " 'at': 10,\n",
              " 'sky': 11,\n",
              " 'clear': 12,\n",
              " 'and': 13,\n",
              " 'blue': 14,\n",
              " 'absolutely': 15,\n",
              " 'love': 16,\n",
              " 'new': 17,\n",
              " 'recipe': 18,\n",
              " 'tried': 19,\n",
              " 'movie': 20,\n",
              " 'exceeded': 21,\n",
              " 'all': 22,\n",
              " 'my': 23,\n",
              " 'expectations': 24,\n",
              " 'he': 25,\n",
              " 'forgot': 26,\n",
              " 'keys': 27,\n",
              " 'again': 28,\n",
              " 'which': 29,\n",
              " 'frustrating': 30,\n",
              " 'we': 31,\n",
              " 'achieved': 32,\n",
              " 'sales': 33,\n",
              " 'target': 34,\n",
              " 'quarter': 35,\n",
              " 'weather': 36,\n",
              " 'forecast': 37,\n",
              " 'predicts': 38,\n",
              " 'heavy': 39,\n",
              " 'rainfall': 40,\n",
              " 'solved': 41,\n",
              " 'puzzle': 42,\n",
              " 'faster': 43,\n",
              " 'than': 44,\n",
              " 'anyone': 45,\n",
              " 'expected': 46,\n",
              " 'dinner': 47,\n",
              " 'party': 48,\n",
              " 'a': 49,\n",
              " 'complete': 50,\n",
              " 'disaster': 51,\n",
              " 'found': 52,\n",
              " 'an': 53,\n",
              " 'amazing': 54,\n",
              " 'book': 55,\n",
              " 'library': 56,\n",
              " 'team': 57,\n",
              " 'preparing': 58,\n",
              " 'for': 59,\n",
              " 'championship': 60,\n",
              " 'finals': 61,\n",
              " 'traffic': 62,\n",
              " 'unbelievably': 63,\n",
              " 'bad': 64,\n",
              " 'sang': 65,\n",
              " 'song': 66,\n",
              " 'beautifully': 67,\n",
              " 'event': 68}"
            ]
          },
          "metadata": {},
          "execution_count": 34
        }
      ],
      "source": [
        "# Initialize the Tokenizer and fit on the sentences\n",
        "tokens = Tokenizer(oov_token = 'oov')\n",
        "tokens.fit_on_texts(sentences)\n",
        "\n",
        "# Get the vocabulary (word-index mapping)\n",
        "vocab = tokens.word_index\n",
        "vocab"
      ]
    },
    {
      "cell_type": "code",
      "execution_count": 35,
      "id": "9d59ef66",
      "metadata": {
        "colab": {
          "base_uri": "https://localhost:8080/"
        },
        "id": "9d59ef66",
        "outputId": "6ed08477-4523-4dec-ba62-a7a6ee7277a1"
      },
      "outputs": [
        {
          "output_type": "execute_result",
          "data": {
            "text/plain": [
              "[[2, 11, 3, 12, 13, 14, 5],\n",
              " [4, 15, 16, 2, 17, 18, 4, 19],\n",
              " [6, 20, 21, 22, 23, 24],\n",
              " [25, 26, 2, 27, 28, 29, 3, 30],\n",
              " [31, 32, 7, 33, 34, 6, 35],\n",
              " [2, 36, 37, 38, 39, 40],\n",
              " [8, 41, 2, 42, 43, 44, 45, 46],\n",
              " [2, 47, 48, 9, 49, 50, 51],\n",
              " [4, 52, 53, 54, 55, 10, 2, 56],\n",
              " [7, 57, 3, 58, 59, 2, 60, 61],\n",
              " [2, 62, 5, 9, 63, 64],\n",
              " [8, 65, 2, 66, 67, 10, 2, 68]]"
            ]
          },
          "metadata": {},
          "execution_count": 35
        }
      ],
      "source": [
        "# Convert sentences into sequences of integers\n",
        "sequence = tokens.texts_to_sequences(sentences)\n",
        "sequence"
      ]
    },
    {
      "cell_type": "code",
      "execution_count": 38,
      "id": "3e49abfa",
      "metadata": {
        "colab": {
          "base_uri": "https://localhost:8080/"
        },
        "id": "3e49abfa",
        "outputId": "9d5dcee7-4730-49f0-f955-020d13d88513"
      },
      "outputs": [
        {
          "output_type": "stream",
          "name": "stdout",
          "text": [
            "Padded Sequences: [[ 2 11  3 12 13 14]\n",
            " [ 4 15 16  2 17 18]\n",
            " [ 6 20 21 22 23 24]\n",
            " [25 26  2 27 28 29]\n",
            " [31 32  7 33 34  6]\n",
            " [ 2 36 37 38 39 40]\n",
            " [ 8 41  2 42 43 44]\n",
            " [ 2 47 48  9 49 50]\n",
            " [ 4 52 53 54 55 10]\n",
            " [ 7 57  3 58 59  2]\n",
            " [ 2 62  5  9 63 64]\n",
            " [ 8 65  2 66 67 10]]\n",
            "Shape of Sequences: (12, 6)\n",
            "Labels Shape: (12,)\n"
          ]
        }
      ],
      "source": [
        "# Pad sequences to make them of equal length\n",
        "sequences = pad_sequences(sequence, maxlen=6, padding='post', truncating='post')\n",
        "print(\"Padded Sequences:\", sequences)\n",
        "print(\"Shape of Sequences:\", sequences.shape)\n",
        "\n",
        "# Reshape labels into a NumPy array\n",
        "label = np.array(label).reshape(-1)\n",
        "print(\"Labels Shape:\", label.shape)"
      ]
    },
    {
      "cell_type": "code",
      "execution_count": 43,
      "id": "a40ed9b9",
      "metadata": {
        "id": "a40ed9b9"
      },
      "outputs": [],
      "source": [
        "# Define the model\n",
        "model = Sequential()\n",
        "model.add(SimpleRNN(1, input_shape=(sequences.shape[1],1), activation = 'relu' ))\n",
        "model.add(Dense(1, activation = 'sigmoid'))\n",
        "\n",
        "# Compile the model\n",
        "model.compile(optimizer = 'adam', loss = 'binary_crossentropy', metrics = ['accuracy'])"
      ]
    },
    {
      "cell_type": "code",
      "execution_count": 44,
      "id": "19f88fde",
      "metadata": {
        "colab": {
          "base_uri": "https://localhost:8080/"
        },
        "id": "19f88fde",
        "outputId": "4daef764-b4ac-4ca6-9ac2-21218d1ed2d6"
      },
      "outputs": [
        {
          "output_type": "stream",
          "name": "stdout",
          "text": [
            "Epoch 1/2\n",
            "\u001b[1m1/1\u001b[0m \u001b[32m━━━━━━━━━━━━━━━━━━━━\u001b[0m\u001b[37m\u001b[0m \u001b[1m2s\u001b[0m 2s/step - accuracy: 0.3333 - loss: 0.6931\n",
            "Epoch 2/2\n",
            "\u001b[1m1/1\u001b[0m \u001b[32m━━━━━━━━━━━━━━━━━━━━\u001b[0m\u001b[37m\u001b[0m \u001b[1m0s\u001b[0m 34ms/step - accuracy: 0.6667 - loss: 0.6930\n"
          ]
        },
        {
          "output_type": "execute_result",
          "data": {
            "text/plain": [
              "<keras.src.callbacks.history.History at 0x7851ee1e9960>"
            ]
          },
          "metadata": {},
          "execution_count": 44
        }
      ],
      "source": [
        "# Train the model\n",
        "model.fit(sequences, label, epochs=2)"
      ]
    },
    {
      "cell_type": "code",
      "execution_count": 48,
      "id": "04ed8ee1",
      "metadata": {
        "colab": {
          "base_uri": "https://localhost:8080/"
        },
        "id": "04ed8ee1",
        "outputId": "c963c7ea-26fe-4ba5-ddbc-e6d6ee921204"
      },
      "outputs": [
        {
          "output_type": "stream",
          "name": "stdout",
          "text": [
            "\u001b[1m1/1\u001b[0m \u001b[32m━━━━━━━━━━━━━━━━━━━━\u001b[0m\u001b[37m\u001b[0m \u001b[1m0s\u001b[0m 23ms/step\n"
          ]
        },
        {
          "output_type": "execute_result",
          "data": {
            "text/plain": [
              "{'oov': 1,\n",
              " 'the': 2,\n",
              " 'is': 3,\n",
              " 'i': 4,\n",
              " 'this': 5,\n",
              " 'was': 6,\n",
              " 'today': 7,\n",
              " 'our': 8,\n",
              " 'she': 9,\n",
              " 'at': 10,\n",
              " 'sky': 11,\n",
              " 'clear': 12,\n",
              " 'and': 13,\n",
              " 'blue': 14,\n",
              " 'absolutely': 15,\n",
              " 'love': 16,\n",
              " 'new': 17,\n",
              " 'recipe': 18,\n",
              " 'tried': 19,\n",
              " 'movie': 20,\n",
              " 'exceeded': 21,\n",
              " 'all': 22,\n",
              " 'my': 23,\n",
              " 'expectations': 24,\n",
              " 'he': 25,\n",
              " 'forgot': 26,\n",
              " 'keys': 27,\n",
              " 'again': 28,\n",
              " 'which': 29,\n",
              " 'frustrating': 30,\n",
              " 'we': 31,\n",
              " 'achieved': 32,\n",
              " 'sales': 33,\n",
              " 'target': 34,\n",
              " 'quarter': 35,\n",
              " 'weather': 36,\n",
              " 'forecast': 37,\n",
              " 'predicts': 38,\n",
              " 'heavy': 39,\n",
              " 'rainfall': 40,\n",
              " 'solved': 41,\n",
              " 'puzzle': 42,\n",
              " 'faster': 43,\n",
              " 'than': 44,\n",
              " 'anyone': 45,\n",
              " 'expected': 46,\n",
              " 'dinner': 47,\n",
              " 'party': 48,\n",
              " 'a': 49,\n",
              " 'complete': 50,\n",
              " 'disaster': 51,\n",
              " 'found': 52,\n",
              " 'an': 53,\n",
              " 'amazing': 54,\n",
              " 'book': 55,\n",
              " 'library': 56,\n",
              " 'team': 57,\n",
              " 'preparing': 58,\n",
              " 'for': 59,\n",
              " 'championship': 60,\n",
              " 'finals': 61,\n",
              " 'traffic': 62,\n",
              " 'unbelievably': 63,\n",
              " 'bad': 64,\n",
              " 'sang': 65,\n",
              " 'song': 66,\n",
              " 'beautifully': 67,\n",
              " 'event': 68,\n",
              " 'best': 69,\n",
              " 'day': 70,\n",
              " 'yesterday': 71}"
            ]
          },
          "metadata": {},
          "execution_count": 48
        }
      ],
      "source": [
        "# New sentence to test\n",
        "test = [\"This was the best day yesterday\"]\n",
        "\n",
        "# Tokenize and pad the test sentence\n",
        "test = tokens.texts_to_sequences(test)\n",
        "test = pad_sequences(test, padding = 'post', truncating = 'post', maxlen = 6)\n",
        "test\n",
        "test.shape\n",
        "\n",
        "#Predict the label\n",
        "model.predict(test)\n",
        "tokens.word_index"
      ]
    }
  ],
  "metadata": {
    "kernelspec": {
      "display_name": "Python 3 (ipykernel)",
      "language": "python",
      "name": "python3"
    },
    "language_info": {
      "codemirror_mode": {
        "name": "ipython",
        "version": 3
      },
      "file_extension": ".py",
      "mimetype": "text/x-python",
      "name": "python",
      "nbconvert_exporter": "python",
      "pygments_lexer": "ipython3",
      "version": "3.10.12"
    },
    "colab": {
      "provenance": []
    }
  },
  "nbformat": 4,
  "nbformat_minor": 5
}